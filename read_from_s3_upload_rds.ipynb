{
 "cells": [
  {
   "cell_type": "code",
   "execution_count": null,
   "metadata": {},
   "outputs": [],
   "source": [
    "import io\n",
    "import re\n",
    "import boto3\n",
    "import logging\n",
    "import requests\n",
    "import pymysql\n",
    "import pandas as pd\n",
    "from sqlalchemy import create_engine\n",
    "from botocore.exceptions import ClientError"
   ]
  },
  {
   "cell_type": "code",
   "execution_count": null,
   "metadata": {},
   "outputs": [],
   "source": [
    "logging.basicConfig(level=logging.INFO,\n",
    "                    format='%(asctime)s:%(funcName)s:%(levelname)s:%(message)s')\n",
    "logger = logger = logging.getLogger(\"read_s3_upload_rds\")"
   ]
  },
  {
   "cell_type": "code",
   "execution_count": null,
   "metadata": {},
   "outputs": [],
   "source": [
    "class GlobalVariables:\n",
    "    bucket_region = 'eu-central-1'\n",
    "    data_url = 'https://raw.githubusercontent.com/dogukannulu/datasets/master/dirty_store_transactions.csv'\n",
    "    bucket_name = '<unique_bucket_name>'\n",
    "    bucket_key = '<datasets_path>/dirty_store_transactions.csv'\n",
    "    database_name = '<database_name>'\n",
    "    database_username = '<user_name>'\n",
    "    database_password = '<password>'\n",
    "    database_endpoint = '<database_endpoint>'\n",
    "    database_port = 3306\n",
    "    s3_client = boto3.client('s3')\n",
    "    database_uri = f\"mysql+pymysql://{database_username}:{database_password}@{database_endpoint}:{database_port}/{database_name}\"\n"
   ]
  },
  {
   "cell_type": "code",
   "execution_count": null,
   "metadata": {},
   "outputs": [],
   "source": [
    "class ModifyColumns:\n",
    "    def extract_city_name(self, string):\n",
    "        cleaned_string = re.sub(r'[^\\w\\s]', '', string)\n",
    "        city_name = cleaned_string.strip()\n",
    "        return city_name\n",
    "\n",
    "    def extract_only_numbers(self, string):\n",
    "        numbers = re.findall(r'\\d+', string)\n",
    "        return ''.join(numbers)\n",
    "\n",
    "    def extract_floats_without_sign(self, string):\n",
    "        string_without_dollar = string.replace('$', '')\n",
    "        return float(string_without_dollar)"
   ]
  },
  {
   "cell_type": "code",
   "execution_count": null,
   "metadata": {},
   "outputs": [],
   "source": [
    "s3=GlobalVariables.s3_client\n",
    "name=GlobalVariables.bucket_name\n",
    "region=GlobalVariables.bucket_region\n",
    "url=GlobalVariables.data_url\n",
    "key=GlobalVariables.bucket_key"
   ]
  },
  {
   "cell_type": "code",
   "execution_count": null,
   "metadata": {},
   "outputs": [],
   "source": [
    "s3.create_bucket(\n",
    "    Bucket = name,\n",
    "    CreateBucketConfiguration = {\n",
    "    'LocationConstraint': region\n",
    "    }\n",
    ")"
   ]
  },
  {
   "cell_type": "code",
   "execution_count": null,
   "metadata": {},
   "outputs": [],
   "source": [
    "response = requests.get(url)\n",
    "s3.put_object(Body=response.content, Bucket=name, Key=key)"
   ]
  },
  {
   "cell_type": "code",
   "execution_count": null,
   "metadata": {},
   "outputs": [],
   "source": [
    "get_response = s3.get_object(Bucket=name, Key=key)\n",
    "file_content = get_response['Body'].read()\n",
    "df = pd.read_csv(io.BytesIO(file_content))"
   ]
  },
  {
   "cell_type": "code",
   "execution_count": null,
   "metadata": {},
   "outputs": [],
   "source": [
    "modify_columns = ModifyColumns()\n",
    "\n",
    "df['STORE_LOCATION'] = df['STORE_LOCATION'].apply(modify_columns.extract_city_name)\n",
    "df['PRODUCT_ID'] = df['PRODUCT_ID'].apply(modify_columns.extract_only_numbers)\n",
    "\n",
    "column_list = ['MRP','CP','DISCOUNT','SP']\n",
    "for i in column_list:\n",
    "    df[i] = df[i].apply(modify_columns.extract_floats_without_sign)"
   ]
  },
  {
   "cell_type": "code",
   "execution_count": null,
   "metadata": {},
   "outputs": [],
   "source": [
    "table_name = 'clean_transaction'\n",
    "sql_query = f\"SELECT * FROM {table_name}\"\n",
    "database_uri=GlobalVariables.database_uri"
   ]
  },
  {
   "cell_type": "code",
   "execution_count": null,
   "metadata": {},
   "outputs": [],
   "source": [
    "engine = create_engine(database_uri)\n",
    "df.to_sql(table_name, con=engine, if_exists='replace', index=False)"
   ]
  },
  {
   "cell_type": "code",
   "execution_count": null,
   "metadata": {},
   "outputs": [],
   "source": [
    "uploaded_df = pd.read_sql(sql_query, engine)\n",
    "print(uploaded_df.head())"
   ]
  }
 ],
 "metadata": {
  "kernelspec": {
   "display_name": "Python 3.10.7 64-bit",
   "language": "python",
   "name": "python3"
  },
  "language_info": {
   "name": "python",
   "version": "3.10.7"
  },
  "orig_nbformat": 4,
  "vscode": {
   "interpreter": {
    "hash": "98590ff4fe04c8543246b2a01debd3de3c5ca9b666f43f1fa87d5110c692004c"
   }
  }
 },
 "nbformat": 4,
 "nbformat_minor": 2
}
